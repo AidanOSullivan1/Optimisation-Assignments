{
 "cells": [
  {
   "cell_type": "markdown",
   "metadata": {},
   "source": [
    "# 2 (b)"
   ]
  },
  {
   "cell_type": "code",
   "execution_count": 10,
   "metadata": {},
   "outputs": [],
   "source": [
    "from pyomo.environ import *   #The Pyomo package is imported, which will be used to solve these linear problems\n",
    "import numpy as np                 "
   ]
  },
  {
   "cell_type": "markdown",
   "metadata": {},
   "source": [
    "In this section a model is created and the variables and constraints from the problem are defined in this model, as wellk as the OF. The variable bounds can be changed, corresponding to the relaxed constraints during branching"
   ]
  },
  {
   "cell_type": "code",
   "execution_count": 11,
   "metadata": {},
   "outputs": [],
   "source": [
    "model = AbstractModel()                        #An abstract model is initated that wil be defined with additional components\n",
    "model.x1 = Var(bounds=(0.8,5) , within=NonNegativeReals)  # The X1 variable is added to the model, with its limits defined \n",
    "model.x2 = Var(bounds=(0.9,5), within=NonNegativeReals)   # The X2 variable is added to the model, with its limits defined\n",
    "model.con1 = Constraint(expr=-18*model.x1+model.x2 <= 4)  # The expression for constraint number one is added to the model\n",
    "model.con2 = Constraint(expr=-2*model.x1+2*model.x2 >= -5) # The expression for constraint number one is added to the model\n",
    "\n",
    "def obj_rule(model):\n",
    "    return 8*model.x1+10*model.x2                       # The objective function is added to the model\n",
    "model.OF = Objective(rule=obj_rule,sense=minimize)       # It is declared that the OF should be minimized"
   ]
  },
  {
   "cell_type": "code",
   "execution_count": 12,
   "metadata": {},
   "outputs": [
    {
     "name": "stdout",
     "output_type": "stream",
     "text": [
      "feasible\n"
     ]
    }
   ],
   "source": [
    "opt = SolverFactory('glpk')            #This solver is used to solve linear programming problems\n",
    "instance = model.create_instance()\n",
    "results = opt.solve(instance) # solves and updates instance\n",
    "if (results.solver.status == SolverStatus.ok) and (results.solver.termination_condition == TerminationCondition.optimal):\n",
    "    print('feasible')\n",
    "elif (results.solver.termination_condition == TerminationCondition.infeasible):\n",
    "    print('infeasible')\n",
    "else:\n",
    "    print ('Solver Status:',  result.solver.status)"
   ]
  },
  {
   "cell_type": "code",
   "execution_count": 13,
   "metadata": {},
   "outputs": [
    {
     "name": "stdout",
     "output_type": "stream",
     "text": [
      "X1= 0.8\n",
      "X2= 0.9\n",
      "OF= 15.4\n"
     ]
    }
   ],
   "source": [
    "print('X1=',round(value(instance.x1),2))   #The values of X1 and X2, as well as the OFare computed for each set of constraints\n",
    "print('X2=',round(value(instance.x2),2))\n",
    "print('OF=',round(value(instance.OF),2))"
   ]
  },
  {
   "cell_type": "markdown",
   "metadata": {},
   "source": [
    "# Q4 (a) "
   ]
  },
  {
   "cell_type": "markdown",
   "metadata": {},
   "source": [
    "A model is again created with the given constraint for Q4, that the cost of choosing multiple locations may not exceed the budget. Using the data from assignment1_Q4.dat file containing the cost and profit of each location the best locations are computed. These must be within the budget of 32.5 million euro\n"
   ]
  },
  {
   "cell_type": "code",
   "execution_count": 449,
   "metadata": {},
   "outputs": [],
   "source": [
    "model       = AbstractModel()     #Model Created\n",
    "model.i     = Set()               # A set created containing all 15 locations\n",
    "\n",
    "model.totalcost = Param(mutable=True)   # The company's budget is set as a parameter\n",
    "\n",
    "model.U = Var(model.i,within=Binary)    # A binary variable is declared to indicate whether a location is being used or not\n",
    "\n",
    "model.cost = Param(model.i,mutable=True)   # A parameter that describes the cost of each location\n",
    "model.profit = Param(model.i,mutable=True)  # A parameter that describes the profit brought about by each location\n",
    "\n",
    "\n",
    "def con1_rule(model,i):      # Constarining the solver to not exceed the budget when choosing new locations for the company\n",
    "    return sum( model.U[i]*model.cost[i] for i in model.i) <= model.totalcost\n",
    "model.con1 = Constraint(model.i,rule=con1_rule)\n",
    "\n",
    "\n",
    "def obj_rule(model):        # The objective function that tries to maximise the profit yield by choosing new locations\n",
    "    return sum( model.U[i]*model.profit[i] for i in model.i )\n",
    "model.OF = Objective(rule=obj_rule,sense=maximize)"
   ]
  },
  {
   "cell_type": "code",
   "execution_count": 450,
   "metadata": {},
   "outputs": [],
   "source": [
    "instance = model.create_instance(\"assignment1_Q4.dat\")  # Data from the .dat file populates the params and sets"
   ]
  },
  {
   "cell_type": "code",
   "execution_count": 451,
   "metadata": {
    "scrolled": false
   },
   "outputs": [],
   "source": [
    "opt = SolverFactory('glpk')\n",
    "results = opt.solve(instance) # solves and updates instance"
   ]
  },
  {
   "cell_type": "code",
   "execution_count": 452,
   "metadata": {},
   "outputs": [
    {
     "name": "stdout",
     "output_type": "stream",
     "text": [
      "feasible\n"
     ]
    }
   ],
   "source": [
    "#instance.display()\n",
    "if (results.solver.status == SolverStatus.ok) and (results.solver.termination_condition == TerminationCondition.optimal):\n",
    "    print('feasible')\n",
    "elif (results.solver.termination_condition == TerminationCondition.infeasible):\n",
    "    print('infeasible')\n",
    "else:\n",
    "    print ('Solver Status:',  result.solver.status)"
   ]
  },
  {
   "cell_type": "code",
   "execution_count": 453,
   "metadata": {
    "scrolled": true
   },
   "outputs": [
    {
     "name": "stdout",
     "output_type": "stream",
     "text": [
      "l1 0.0\n",
      "l2 1.0\n",
      "l3 1.0\n",
      "l4 0.0\n",
      "l5 1.0\n",
      "l6 0.0\n",
      "l7 0.0\n",
      "l8 1.0\n",
      "l9 0.0\n",
      "l10 1.0\n",
      "l11 1.0\n",
      "l12 0.0\n",
      "l13 0.0\n",
      "l14 0.0\n",
      "l15 1.0\n",
      "Total Cost of investment =  31.0\n",
      "OF= 64.0\n"
     ]
    }
   ],
   "source": [
    "for i in instance.i:  #Loop through set of locations\n",
    "    print(i, round(value(instance.U[i]),2))   #prints each location and shows whether the model has chosen it or not\n",
    "investmentCost = sum( value(instance.U[i]*instance.cost[i]) for i in instance.i)  #Shows the total cost of the chosen lcoations\n",
    "print(\"Total Cost of investment = \", investmentCost)\n",
    "print('OF=',round(value(instance.OF),2))\n"
   ]
  },
  {
   "cell_type": "markdown",
   "metadata": {},
   "source": [
    "# 4 (b)"
   ]
  },
  {
   "cell_type": "markdown",
   "metadata": {},
   "source": [
    "Only the 4 best locations are chosen in this case. This is achieved by adding a new constraints that says that the binary variable that inicates if a location is chosen should be 1 exactly four times."
   ]
  },
  {
   "cell_type": "code",
   "execution_count": 445,
   "metadata": {},
   "outputs": [],
   "source": [
    "model       = AbstractModel()\n",
    "model.i     = Set()\n",
    "\n",
    "model.totalcost = Param(mutable=True)\n",
    "\n",
    "model.U = Var(model.i,within=Binary)\n",
    "\n",
    "model.cost = Param(model.i,mutable=True)\n",
    "model.profit = Param(model.i,mutable=True)\n",
    "\n",
    "\n",
    "def con1_rule(model,i):\n",
    "    return sum( model.U[i]*model.cost[i] for i in model.i) <= model.totalcost\n",
    "model.con1 = Constraint(model.i,rule=con1_rule)\n",
    "\n",
    "def con2_rule(model,i):\n",
    "    return sum(model.U[i] for i in model.i) == 4    # New constarint that ensures that only 4 locations are chosen\n",
    "model.con2 = Constraint(model.i,rule=con2_rule)     \n",
    "\n",
    "\n",
    "\n",
    "\n",
    "def obj_rule(model):\n",
    "    return sum( model.U[i]*model.profit[i] for i in model.i )\n",
    "model.OF = Objective(rule=obj_rule,sense=maximize)"
   ]
  },
  {
   "cell_type": "code",
   "execution_count": 446,
   "metadata": {},
   "outputs": [],
   "source": [
    "instance = model.create_instance(\"assignment1_Q4.dat\")\n",
    "opt = SolverFactory('glpk')\n",
    "results = opt.solve(instance) # solves and updates instance"
   ]
  },
  {
   "cell_type": "code",
   "execution_count": 447,
   "metadata": {},
   "outputs": [
    {
     "name": "stdout",
     "output_type": "stream",
     "text": [
      "feasible\n"
     ]
    }
   ],
   "source": [
    "#instance.display()\n",
    "if (results.solver.status == SolverStatus.ok) and (results.solver.termination_condition == TerminationCondition.optimal):\n",
    "    print('feasible')\n",
    "elif (results.solver.termination_condition == TerminationCondition.infeasible):\n",
    "    print('infeasible')\n",
    "else:\n",
    "    print ('Solver Status:',  result.solver.status)"
   ]
  },
  {
   "cell_type": "markdown",
   "metadata": {},
   "source": [
    "4 locations are chosen. This new constraint has deteriated the OF as the  profit is now smaller than in part A"
   ]
  },
  {
   "cell_type": "code",
   "execution_count": 448,
   "metadata": {},
   "outputs": [
    {
     "name": "stdout",
     "output_type": "stream",
     "text": [
      "l1 0.0\n",
      "l2 1.0\n",
      "l3 1.0\n",
      "l4 0.0\n",
      "l5 1.0\n",
      "l6 0.0\n",
      "l7 0.0\n",
      "l8 0.0\n",
      "l9 0.0\n",
      "l10 0.0\n",
      "l11 0.0\n",
      "l12 0.0\n",
      "l13 0.0\n",
      "l14 1.0\n",
      "l15 0.0\n",
      "Total Cost of investment =  22.0\n",
      "OF= 44.0\n"
     ]
    }
   ],
   "source": [
    "for i in instance.i:\n",
    "    print(i, round(value(instance.U[i]),2)) \n",
    "investmentCost = sum( value(instance.U[i]*instance.cost[i]) for i in instance.i)\n",
    "print(\"Total Cost of investment = \", investmentCost)\n",
    "print('OF=',round(value(instance.OF),2))\n"
   ]
  },
  {
   "cell_type": "markdown",
   "metadata": {},
   "source": [
    "# 4 (c)"
   ]
  },
  {
   "cell_type": "markdown",
   "metadata": {},
   "source": [
    "In this case only 2 locations in the North and South of the Liffey should be chosen. A new .dat file is created called assignment1_Q4_CandD.dat. In this file two sets are created for Northern and Southern locations. Two constraints are added that say that no more than locations from each set should be chosen."
   ]
  },
  {
   "cell_type": "code",
   "execution_count": 439,
   "metadata": {},
   "outputs": [],
   "source": [
    "model       = AbstractModel()\n",
    "model.i     = Set()            # Set containing southern locations\n",
    "model.j     = Set()            # Set containing northern locations\n",
    "\n",
    "model.totalcost = Param(mutable=True)\n",
    "\n",
    "model.U_S = Var(model.i,within=Binary)\n",
    "model.U_N = Var(model.j,within=Binary)\n",
    "\n",
    "model.cost_S = Param(model.i,mutable=True)\n",
    "model.profit_S = Param(model.i,mutable=True)\n",
    "model.cost_N = Param(model.j,mutable=True)\n",
    "model.profit_N = Param(model.j,mutable=True)\n",
    "\n",
    "\n",
    "def con1_rule(model,i):\n",
    "    return sum( model.U_S[i]*model.cost_S[i] for i in model.i)+sum( model.U_N[j]*model.cost_N[j] for j in model.j) <= model.totalcost\n",
    "model.con1 = Constraint(model.i,rule=con1_rule)\n",
    "\n",
    "\n",
    "def con3_rule(model,i):\n",
    "    return sum(model.U_S[i] for i in model.i) <= 2          #No more than 2 southern locations may be chosen\n",
    "model.con3 = Constraint(model.i,rule=con3_rule)            \n",
    "\n",
    "def con4_rule(model,j):\n",
    "    return sum(model.U_N[j] for j in model.j) <= 2          #No more than 2 northern locations may be chosen\n",
    "model.con4 = Constraint(model.j,rule=con4_rule)\n",
    "\n",
    "\n",
    "def obj_rule(model):\n",
    "    return sum( model.U_S[i]*model.profit_S[i] for i in model.i )+sum( model.U_N[j]*model.profit_N[j] for j in model.j )\n",
    "model.OF = Objective(rule=obj_rule,sense=maximize)"
   ]
  },
  {
   "cell_type": "code",
   "execution_count": 440,
   "metadata": {
    "scrolled": true
   },
   "outputs": [],
   "source": [
    "instance = model.create_instance(\"assignment1_Q4_CandD.dat\")\n",
    "opt = SolverFactory('glpk')\n",
    "results = opt.solve(instance) # solves and updates instance"
   ]
  },
  {
   "cell_type": "markdown",
   "metadata": {},
   "source": [
    "The printed results show that no more than 2 locations from each side are chosen. "
   ]
  },
  {
   "cell_type": "code",
   "execution_count": 441,
   "metadata": {
    "scrolled": true
   },
   "outputs": [
    {
     "name": "stdout",
     "output_type": "stream",
     "text": [
      "Sl1 0.0\n",
      "Sl2 1.0\n",
      "Sl3 0.0\n",
      "Sl4 0.0\n",
      "Sl5 1.0\n",
      "Sl6 0.0\n",
      "Sl7 0.0\n",
      "Nl8 0.0\n",
      "Nl9 0.0\n",
      "Nl10 0.0\n",
      "Nl11 1.0\n",
      "Nl12 0.0\n",
      "Nl13 0.0\n",
      "Nl14 1.0\n",
      "Nl15 0.0\n",
      "Total Cost of investment =  24.0\n",
      "OF= 44.0\n"
     ]
    }
   ],
   "source": [
    "for i in instance.i:\n",
    "    print(i, round(value(instance.U_S[i]),2)) \n",
    "for j in instance.j:\n",
    "    print(j, round(value(instance.U_N[j]),2)) \n",
    "investmentCost = sum( value(instance.U_S[i]*instance.cost_S[i]) for i in instance.i)+sum( value(instance.U_N[j]*instance.cost_N[j]) for j in instance.j)\n",
    "print(\"Total Cost of investment = \", investmentCost)\n",
    "print('OF=',round(value(instance.OF),2))"
   ]
  },
  {
   "cell_type": "markdown",
   "metadata": {},
   "source": [
    "# Q4 (d)"
   ]
  },
  {
   "cell_type": "markdown",
   "metadata": {},
   "source": [
    "In this case the number of chosen lcoations on either side of the Liffey should not differ by more than 1. This was achieved by setting a constraint that says the number of binary variable that have a value of 1 for each set subtracted should not differ by more than 1:\n",
    "abs(U_N - U_S) <=1\n",
    "In this form using an absolute value operation the problem becomes non-linear. To keep it linear it can be slit into two constarints seen in con2 and con3, which essentially achieves the same desired result."
   ]
  },
  {
   "cell_type": "code",
   "execution_count": 442,
   "metadata": {},
   "outputs": [],
   "source": [
    "model       = AbstractModel()\n",
    "model.i     = Set()\n",
    "model.j     = Set()\n",
    "\n",
    "model.totalcost = Param(mutable=True)\n",
    "\n",
    "model.U_S = Var(model.i,within=Binary)\n",
    "model.U_N = Var(model.j,within=Binary)\n",
    "\n",
    "model.cost_S = Param(model.i,mutable=True)\n",
    "model.profit_S = Param(model.i,mutable=True)\n",
    "model.cost_N = Param(model.j,mutable=True)\n",
    "model.profit_N = Param(model.j,mutable=True)\n",
    "\n",
    "\n",
    "def con1_rule(model,i):\n",
    "    return sum( model.U_S[i]*model.cost_S[i] for i in model.i)+sum( model.U_N[j]*model.cost_N[j] for j in model.j) <= model.totalcost\n",
    "model.con1 = Constraint(model.i,rule=con1_rule)\n",
    "\n",
    "def con2_rule(model,i):\n",
    "    return sum(model.U_S[i] for i in model.i)-sum(model.U_N[j] for j in model.j) <= 1   # The number of south locations should not exceed the number of northern location by more than 1\n",
    "model.con2 = Constraint(model.i,rule=con2_rule)\n",
    "\n",
    "def con3_rule(model,i):\n",
    "    return sum(model.U_N[j] for j in model.j) - sum(model.U_S[i] for i in model.i) <= 1  # The number of north locations should not exceed the number of southern location by more than 1\n",
    "model.con3 = Constraint(model.i,rule=con3_rule)\n",
    "\n",
    "def obj_rule(model):\n",
    "    return sum( model.U_S[i]*model.profit_S[i] for i in model.i )+sum( model.U_N[j]*model.profit_N[j] for j in model.j )\n",
    "model.OF = Objective(rule=obj_rule,sense=maximize)"
   ]
  },
  {
   "cell_type": "code",
   "execution_count": 443,
   "metadata": {},
   "outputs": [],
   "source": [
    "instance = model.create_instance(\"assignment1_Q4_CandD.dat\")\n",
    "opt = SolverFactory('glpk')\n",
    "results = opt.solve(instance) # solves and updates instance"
   ]
  },
  {
   "cell_type": "markdown",
   "metadata": {},
   "source": [
    "The printed results show that the number of locations in the north and south will never differ by more than 1. For verification purposes all locations on one side of the river were briefly changed to undesirable parameters to ensure that the solver would not pick all of the better options on one side of the river. It followed the constarints regardless, proving its effectivness."
   ]
  },
  {
   "cell_type": "code",
   "execution_count": 444,
   "metadata": {},
   "outputs": [
    {
     "name": "stdout",
     "output_type": "stream",
     "text": [
      "Sl1 0.0\n",
      "Sl2 1.0\n",
      "Sl3 1.0\n",
      "Sl4 0.0\n",
      "Sl5 1.0\n",
      "Sl6 0.0\n",
      "Sl7 0.0\n",
      "Nl8 1.0\n",
      "Nl9 0.0\n",
      "Nl10 1.0\n",
      "Nl11 1.0\n",
      "Nl12 0.0\n",
      "Nl13 0.0\n",
      "Nl14 0.0\n",
      "Nl15 1.0\n",
      "Total Cost of investment =  31.0\n",
      "OF= 64.0\n"
     ]
    }
   ],
   "source": [
    "for i in instance.i:\n",
    "    print(i, round(value(instance.U_S[i]),2)) \n",
    "for j in instance.j:\n",
    "    print(j, round(value(instance.U_N[j]),2)) \n",
    "investmentCost = sum( value(instance.U_S[i]*instance.cost_S[i]) for i in instance.i)+sum( value(instance.U_N[j]*instance.cost_N[j]) for j in instance.j)\n",
    "print(\"Total Cost of investment = \", investmentCost)\n",
    "print('OF=',round(value(instance.OF),2))"
   ]
  }
 ],
 "metadata": {
  "kernelspec": {
   "display_name": "Python 3",
   "language": "python",
   "name": "python3"
  },
  "language_info": {
   "codemirror_mode": {
    "name": "ipython",
    "version": 3
   },
   "file_extension": ".py",
   "mimetype": "text/x-python",
   "name": "python",
   "nbconvert_exporter": "python",
   "pygments_lexer": "ipython3",
   "version": "3.8.5"
  }
 },
 "nbformat": 4,
 "nbformat_minor": 4
}
