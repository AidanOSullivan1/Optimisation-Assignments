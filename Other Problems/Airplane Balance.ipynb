{
 "cells": [
  {
   "cell_type": "markdown",
   "metadata": {},
   "source": [
    "Optimisation problem seeks to solve the optimum amount of each cargo type that should be stored in each csection. Given weight and volume constraints of the plane. PRofit should be maximised"
   ]
  },
  {
   "cell_type": "code",
   "execution_count": 5,
   "metadata": {},
   "outputs": [],
   "source": [
    "from pyomo.environ import *"
   ]
  },
  {
   "cell_type": "code",
   "execution_count": 6,
   "metadata": {},
   "outputs": [],
   "source": [
    "model       = AbstractModel()\n",
    "model.i     = Set()\n",
    "model.j     = Set()\n",
    "model.planeWeight = Param(model.j,mutable=True)\n",
    "model.planeSpace  = Param(model.j,mutable=True)\n",
    "model.CargoW      = Param(model.i,mutable=True)\n",
    "model.CargoVol    = Param(model.i,mutable=True)\n",
    "model.CargoProfit = Param(model.i,mutable=True)\n",
    "\n",
    "def xbounds(model,i,j):\n",
    "    return (0,model.CargoW[i])\n",
    "model.x = Var(model.i,model.j, bounds=xbounds,domain=NonNegativeReals)\n",
    "#model.x = Var(model.i,model.j, bounds=xbounds,domain=NonNegativeIntegers)\n",
    "\n",
    "#model.balance = Var( bounds=(0,100),domain=NonNegativeReals)\n",
    "\n",
    "def con1_rule(model,i):\n",
    "    return sum( model.x[i,j] for j in model.j) <= model.CargoW[i]\n",
    "model.con1 = Constraint(model.i,rule=con1_rule)\n",
    "\n",
    "def con2_rule(model,j):\n",
    "    return sum( model.x[i,j] for i in model.i) <= model.planeWeight[j]\n",
    "model.con2 = Constraint(model.j,rule=con2_rule)\n",
    "\n",
    "def con3_rule(model,j):\n",
    "    return sum( model.x[i,j]*model.CargoVol[i] for i in model.i) <= model.planeSpace[j]\n",
    "model.con3 = Constraint(model.j,rule=con3_rule)\n",
    "\n",
    "def obj_rule(model):\n",
    "    return sum( model.x[i,j]*model.CargoProfit[i] for i in model.i for j in model.j)\n",
    "model.OF = Objective(rule=obj_rule,sense=maximize)"
   ]
  },
  {
   "cell_type": "code",
   "execution_count": 10,
   "metadata": {},
   "outputs": [],
   "source": [
    "instance = model.create_instance(\"Airplane Balance.dat\")"
   ]
  },
  {
   "cell_type": "code",
   "execution_count": 11,
   "metadata": {},
   "outputs": [],
   "source": [
    "opt = SolverFactory('glpk')\n",
    "results = opt.solve(instance) # solves and updates instance"
   ]
  },
  {
   "cell_type": "code",
   "execution_count": 12,
   "metadata": {},
   "outputs": [
    {
     "name": "stdout",
     "output_type": "stream",
     "text": [
      "feasible\n"
     ]
    }
   ],
   "source": [
    "#instance.display()\n",
    "if (results.solver.status == SolverStatus.ok) and (results.solver.termination_condition == TerminationCondition.optimal):\n",
    "    print('feasible')\n",
    "elif (results.solver.termination_condition == TerminationCondition.infeasible):\n",
    "    print('infeasible')\n",
    "else:\n",
    "    print ('Solver Status:',  result.solver.status)"
   ]
  },
  {
   "cell_type": "code",
   "execution_count": 13,
   "metadata": {},
   "outputs": [
    {
     "name": "stdout",
     "output_type": "stream",
     "text": [
      "X[ c1 f1 ]= 0.0\n",
      "X[ c1 f2 ]= 0.0\n",
      "X[ c1 f3 ]= 0.0\n",
      "X[ c2 f1 ]= 10.0\n",
      "X[ c2 f2 ]= 0.0\n",
      "X[ c2 f3 ]= 5.0\n",
      "X[ c3 f1 ]= 0.0\n",
      "X[ c3 f2 ]= 12.95\n",
      "X[ c3 f3 ]= 3.0\n",
      "X[ c4 f1 ]= 0.0\n",
      "X[ c4 f2 ]= 3.05\n",
      "X[ c4 f3 ]= 0.0\n",
      "OF= 12151.58\n",
      "f1 10.0\n",
      "f2 15.99999999999997\n",
      "f3 8.0\n"
     ]
    }
   ],
   "source": [
    "for i in instance.i:\n",
    "    for j in instance.j:\n",
    "        print('X[',i,j,']=', round(value(instance.x[i,j]),2))\n",
    "print('OF=',round(value(instance.OF),2))\n",
    "\n",
    "for j in instance.j:\n",
    "    print(j, sum(value(instance.x[i,j]) for i in instance.i))"
   ]
  }
 ],
 "metadata": {
  "kernelspec": {
   "display_name": "Python 3",
   "language": "python",
   "name": "python3"
  },
  "language_info": {
   "codemirror_mode": {
    "name": "ipython",
    "version": 3
   },
   "file_extension": ".py",
   "mimetype": "text/x-python",
   "name": "python",
   "nbconvert_exporter": "python",
   "pygments_lexer": "ipython3",
   "version": "3.8.5"
  }
 },
 "nbformat": 4,
 "nbformat_minor": 4
}
